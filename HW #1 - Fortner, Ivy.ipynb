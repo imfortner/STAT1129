{
 "cells": [
  {
   "cell_type": "markdown",
   "metadata": {},
   "source": [
    "#Assignment 1# \n",
    "1.\tCreate a list of your favorite colors. [0.5 point]\n",
    "2.\tGenerate a list of numbers from 30 to 60 with interval 3, for    example, 30, 33, 36, …… 60. [1 point]\n",
    "3.\tCreate the following dictionary. [1 point]\n",
    "Keys:\tValues:\n",
    "Sunny\tplay\n",
    "Rainy\twatching TV\n",
    "Cloudy\twalk\n",
    "4. Then add a new pair (“snowy”, “ski”) to your dictionary. [0.5 point]\n",
    "5. Using if…elif…else statement, to help grade students’ score. [2 \n",
    ">=90\tA\n",
    "[80,90)\tB\n",
    "[70,80]\tC\n",
    "<70\tF\n",
    "\n"
   ]
  },
  {
   "cell_type": "code",
   "execution_count": 7,
   "metadata": {},
   "outputs": [],
   "source": [
    "colors = [\"pink\", \"purple\", \"blue\", \"olive green\"]"
   ]
  },
  {
   "cell_type": "code",
   "execution_count": 8,
   "metadata": {},
   "outputs": [
    {
     "name": "stdout",
     "output_type": "stream",
     "text": [
      "<class 'list'>\n"
     ]
    }
   ],
   "source": [
    "print(type(colors))"
   ]
  },
  {
   "cell_type": "code",
   "execution_count": 9,
   "metadata": {},
   "outputs": [
    {
     "name": "stdout",
     "output_type": "stream",
     "text": [
      "['pink', 'purple', 'blue', 'olive green']\n"
     ]
    }
   ],
   "source": [
    "print(colors) "
   ]
  },
  {
   "cell_type": "code",
   "execution_count": 12,
   "metadata": {},
   "outputs": [],
   "source": [
    "nums= list(range(30,63,3))"
   ]
  },
  {
   "cell_type": "code",
   "execution_count": 13,
   "metadata": {},
   "outputs": [
    {
     "name": "stdout",
     "output_type": "stream",
     "text": [
      "[30, 33, 36, 39, 42, 45, 48, 51, 54, 57, 60]\n"
     ]
    }
   ],
   "source": [
    "print(nums)"
   ]
  },
  {
   "cell_type": "code",
   "execution_count": 3,
   "metadata": {},
   "outputs": [],
   "source": [
    "mydict = {\n",
    "\"sunny\":\"play\",\n",
    "\"raining\":\"watching TV\",\n",
    "\"cloudy\": \"walk\"}"
   ]
  },
  {
   "cell_type": "code",
   "execution_count": 4,
   "metadata": {},
   "outputs": [
    {
     "name": "stdout",
     "output_type": "stream",
     "text": [
      "{'sunny': 'play', 'raining': 'watching TV', 'cloudy': 'walk'}\n"
     ]
    }
   ],
   "source": [
    "print(mydict)"
   ]
  },
  {
   "cell_type": "code",
   "execution_count": 10,
   "metadata": {},
   "outputs": [],
   "source": [
    "    mydict.update({\"snowy\":\"ski\"})"
   ]
  },
  {
   "cell_type": "code",
   "execution_count": 11,
   "metadata": {},
   "outputs": [
    {
     "name": "stdout",
     "output_type": "stream",
     "text": [
      "{'sunny': 'play', 'raining': 'watching TV', 'cloudy': 'walk', 'snowy': 'ski'}\n"
     ]
    }
   ],
   "source": [
    "print(mydict)"
   ]
  },
  {
   "cell_type": "code",
   "execution_count": 31,
   "metadata": {},
   "outputs": [
    {
     "name": "stdout",
     "output_type": "stream",
     "text": [
      "C\n"
     ]
    }
   ],
   "source": [
    "if grade >= 90: print ('A') \n",
    "elif grade >= 80: print ('B')\n",
    "elif grade >=70: print ('C')\n",
    "else: print('F')"
   ]
  },
  {
   "cell_type": "code",
   "execution_count": 30,
   "metadata": {},
   "outputs": [],
   "source": [
    "grade = 70"
   ]
  }
 ],
 "metadata": {
  "kernelspec": {
   "display_name": "Python 3",
   "language": "python",
   "name": "python3"
  },
  "language_info": {
   "codemirror_mode": {
    "name": "ipython",
    "version": 3
   },
   "file_extension": ".py",
   "mimetype": "text/x-python",
   "name": "python",
   "nbconvert_exporter": "python",
   "pygments_lexer": "ipython3",
   "version": "3.8.5"
  }
 },
 "nbformat": 4,
 "nbformat_minor": 4
}
