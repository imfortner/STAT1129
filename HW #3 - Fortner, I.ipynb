{
 "cells": [
  {
   "cell_type": "code",
   "execution_count": null,
   "metadata": {},
   "outputs": [],
   "source": [
    "#Question 0: Define a dictionary, composed with students name and their grade. marks = {‘Andy’:88, ‘Amy’:66, 'James': 90, 'Jules': 55, 'Arthur': 77}\n",
    "#Question 1: Using for loop, print out all the students name and their grade.\n",
    "#Question 2: Of this dictionary, calculate all the student’s mean grade, maximal grade, and minimal grade.\n",
    "#Question 3: Using for loop or while loop, for all the keys in the dictionary, print out key. However, if ‘J’ appears, stop the loop.\n",
    "#Question 4: Using for loop or while loop, for all the keys in the dictionary, print out key. However, if ‘J’ appears, skip this key, and continue the loop.\n",
    "#Question 5: Define a function, when call the function, only need to pass student’s name, your function will return this student’s grade. If the student name does not exit, print you cannot find this student’s name."
   ]
  },
  {
   "cell_type": "code",
   "execution_count": 3,
   "metadata": {},
   "outputs": [],
   "source": [
    "name_grade = {\n",
    "\"Andy\":\"88\",\n",
    "\"Amy\":\"66\",\n",
    "\"James\": \"90\",\n",
    "\"Jules\":\"55\",\n",
    "\"Arthur\":\"77\"}"
   ]
  },
  {
   "cell_type": "code",
   "execution_count": 4,
   "metadata": {},
   "outputs": [
    {
     "name": "stdout",
     "output_type": "stream",
     "text": [
      "{'Andy': '88', 'Amy': '66', 'James': '90', 'Jules': '55', 'Arthur': '77'}\n"
     ]
    }
   ],
   "source": [
    "print(name_grade)"
   ]
  },
  {
   "cell_type": "code",
   "execution_count": 5,
   "metadata": {
    "scrolled": true
   },
   "outputs": [
    {
     "name": "stdout",
     "output_type": "stream",
     "text": [
      "Andy recieved a 88\n",
      "Amy recieved a 66\n",
      "James recieved a 90\n",
      "Jules recieved a 55\n",
      "Arthur recieved a 77\n"
     ]
    }
   ],
   "source": [
    "for name, grade in name_grade. items():\n",
    "    print(name, \"recieved a\", grade)"
   ]
  },
  {
   "cell_type": "code",
   "execution_count": 6,
   "metadata": {},
   "outputs": [],
   "source": [
    "grade_book = {            \n",
    "    'Andy': [88], \n",
    "    'Amy': [66],\n",
    "    'James': [90],  \n",
    "    'Jules': [55],\n",
    "    'Arthur': [77]}"
   ]
  },
  {
   "cell_type": "code",
   "execution_count": 7,
   "metadata": {},
   "outputs": [],
   "source": [
    "minimum= (min(88,66,90,55,77))"
   ]
  },
  {
   "cell_type": "code",
   "execution_count": 8,
   "metadata": {},
   "outputs": [],
   "source": [
    "maximum= (max(88,66,90,55,77))"
   ]
  },
  {
   "cell_type": "code",
   "execution_count": 9,
   "metadata": {},
   "outputs": [
    {
     "name": "stdout",
     "output_type": "stream",
     "text": [
      "Average for Andy is 88.00\n",
      "Average for Amy is 66.00\n",
      "Average for James is 90.00\n",
      "Average for Jules is 55.00\n",
      "Average for Arthur is 77.00\n",
      "Class's average is: 75.20\n",
      "Class's minimum is: 55\n",
      "Class's maximum is: 90\n"
     ]
    }
   ],
   "source": [
    "all_grades_total = 0\n",
    "all_grades_count = 0\n",
    "\n",
    "for name, grades in grade_book.items():\n",
    "    total = sum(grades)\n",
    "    print(f'Average for {name} is {total/len(grades):.2f}')\n",
    "    all_grades_total += total\n",
    "    all_grades_count += len(grades)\n",
    "    \n",
    "print(f\"Class's average is: {all_grades_total / all_grades_count:.2f}\")\n",
    "print(\"Class's minimum is:\",minimum)\n",
    "print(\"Class's maximum is:\",maximum)\n"
   ]
  },
  {
   "cell_type": "code",
   "execution_count": 10,
   "metadata": {},
   "outputs": [],
   "source": [
    "#Question 3: Using for loop or while loop, for all the keys in the dictionary, \n",
    "#print out key. However, if ‘J’ appears, stop the loop.\n"
   ]
  },
  {
   "cell_type": "code",
   "execution_count": 23,
   "metadata": {},
   "outputs": [
    {
     "name": "stdout",
     "output_type": "stream",
     "text": [
      "Andy\n",
      "Amy\n"
     ]
    }
   ],
   "source": [
    "for name in name_grade:\n",
    "    if 'J' in name:\n",
    "        break\n",
    "    print(name)"
   ]
  },
  {
   "cell_type": "code",
   "execution_count": 12,
   "metadata": {},
   "outputs": [],
   "source": [
    "#Question 4: Using for loop or while loop, for all the keys in the dictionary, \n",
    "#print out key. However, if ‘J’ appears, \n",
    "#skip this key, and continue the loop.\n",
    "\n"
   ]
  },
  {
   "cell_type": "code",
   "execution_count": 22,
   "metadata": {},
   "outputs": [
    {
     "name": "stdout",
     "output_type": "stream",
     "text": [
      "Andy\n",
      "Amy\n",
      "Arthur\n"
     ]
    }
   ],
   "source": [
    "for name in name_grade:\n",
    "    if 'J' in name:\n",
    "        continue\n",
    "    print(name)"
   ]
  },
  {
   "cell_type": "code",
   "execution_count": 58,
   "metadata": {},
   "outputs": [],
   "source": [
    "#Question 5: Define a function, when call the function, only need to pass \n",
    "#student’s name, your function will return this student’s grade. If the \n",
    "#student name does not exit, print you cannot find this student’s name.\n"
   ]
  },
  {
   "cell_type": "code",
   "execution_count": 24,
   "metadata": {},
   "outputs": [
    {
     "name": "stdout",
     "output_type": "stream",
     "text": [
      "66\n",
      "Cannot find this student's name\n",
      "90\n"
     ]
    }
   ],
   "source": [
    "def print_student(student_name):\n",
    "    marks= {\n",
    "\"Andy\":\"88\",\n",
    "\"Amy\":\"66\",\n",
    "\"James\": \"90\",\n",
    "\"Jules\":\"55\",\n",
    "\"Arthur\":\"77\"}\n",
    "    for student in marks:\n",
    "        if student==student_name:\n",
    "            print(marks[student])\n",
    "            break\n",
    "    else:\n",
    "        print(\"Cannot find this student's name\")\n",
    "print_student(\"Amy\")\n",
    "print_student(\"Ivy\")\n",
    "print_student(\"James\")"
   ]
  }
 ],
 "metadata": {
  "kernelspec": {
   "display_name": "Python 3",
   "language": "python",
   "name": "python3"
  },
  "language_info": {
   "codemirror_mode": {
    "name": "ipython",
    "version": 3
   },
   "file_extension": ".py",
   "mimetype": "text/x-python",
   "name": "python",
   "nbconvert_exporter": "python",
   "pygments_lexer": "ipython3",
   "version": "3.8.5"
  }
 },
 "nbformat": 4,
 "nbformat_minor": 4
}
