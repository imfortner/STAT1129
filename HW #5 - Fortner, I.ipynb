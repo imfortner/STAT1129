{
 "cells": [
  {
   "cell_type": "code",
   "execution_count": 9,
   "metadata": {},
   "outputs": [],
   "source": [
    "import time"
   ]
  },
  {
   "cell_type": "code",
   "execution_count": null,
   "metadata": {},
   "outputs": [],
   "source": [
    "# Question 1\n",
    "# (a) "
   ]
  },
  {
   "cell_type": "code",
   "execution_count": 11,
   "metadata": {},
   "outputs": [
    {
     "name": "stdout",
     "output_type": "stream",
     "text": [
      "5:30\n"
     ]
    }
   ],
   "source": [
    "class Clock():\n",
    "    def __init__(self, time):\n",
    "        self.time=time\n",
    "    def print_time(self):\n",
    "        time = '6:30'\n",
    "        print (self.time)\n",
    "clock = Clock ('5:30')\n",
    "clock.print_time()"
   ]
  },
  {
   "cell_type": "code",
   "execution_count": null,
   "metadata": {},
   "outputs": [],
   "source": [
    "# (b) Why does the code print this? (1 point)\n",
    "# The __init__ function initializes the object and assigns values to object properties. The self represents the implicit parameter and binds the \n",
    "# attribute with the given argument (time). When the object 'clock' is created with the class and a time value of\n",
    "# 5:30, it uses the methods of the class, and so when the function print_time() is called, the value of \n",
    "# self.time which has been set to '5:30' is printed. "
   ]
  },
  {
   "cell_type": "code",
   "execution_count": null,
   "metadata": {},
   "outputs": [],
   "source": [
    "# Question 2\n",
    "# (a)"
   ]
  },
  {
   "cell_type": "code",
   "execution_count": 12,
   "metadata": {},
   "outputs": [
    {
     "name": "stdout",
     "output_type": "stream",
     "text": [
      "10:30\n"
     ]
    }
   ],
   "source": [
    "class Clock():\n",
    "    def __init__(self, time):\n",
    "        self.time=time\n",
    "    def print_time(self,time):\n",
    "        print (time)\n",
    "clock = Clock ('5:30')\n",
    "clock.print_time('10:30')"
   ]
  },
  {
   "cell_type": "code",
   "execution_count": null,
   "metadata": {},
   "outputs": [],
   "source": [
    "# (b) What does this tell you about giving parameters the same name as object attributes? (1 point)\n",
    "# We shouldnt give parameters, variables, and attributes the same names because it can be misleading."
   ]
  },
  {
   "cell_type": "code",
   "execution_count": null,
   "metadata": {},
   "outputs": [],
   "source": [
    "# Question 3\n",
    "# (a)"
   ]
  },
  {
   "cell_type": "code",
   "execution_count": 1,
   "metadata": {},
   "outputs": [
    {
     "name": "stdout",
     "output_type": "stream",
     "text": [
      "5:30\n",
      "10:30\n"
     ]
    }
   ],
   "source": [
    "class Clock():\n",
    "    def __init__(self, time):\n",
    "        self.time=time\n",
    "    def print_time(self):\n",
    "        print (self.time)\n",
    "        \n",
    "class Clock1(Clock):\n",
    "    pass\n",
    "\n",
    "boston_clock = Clock('5:30')\n",
    "paris_clock = Clock1('10:30')\n",
    "\n",
    "boston_clock.print_time()\n",
    "paris_clock.print_time()"
   ]
  },
  {
   "cell_type": "code",
   "execution_count": null,
   "metadata": {},
   "outputs": [],
   "source": [
    "# (b) Why does it print what it does? (Are Boston clock and Paris clock different objects? Why or whynot?) (1 point)\n",
    "# This line of code: class Clock1(Clock), creates a class named Clock1, which will inherit the properties and \n",
    "# methods from the Clock class. The next lines of code starting with boston_clock and paris_clock create the object. \n",
    "# Then we use the print_time method to print out our objects (5:30 & 10:30). The boston_clock and paris_clock are two different\n",
    "# objects, we never set them equal to eachother.\n"
   ]
  },
  {
   "cell_type": "code",
   "execution_count": null,
   "metadata": {},
   "outputs": [],
   "source": [
    "# Question 4"
   ]
  },
  {
   "cell_type": "code",
   "execution_count": 169,
   "metadata": {},
   "outputs": [],
   "source": [
    "class Queue(object):\n",
    "\n",
    "    def __init__(self):\n",
    "        self.vals = []\n",
    "\n",
    "    def insert(self, a):\n",
    "        self.vals.append(a)\n",
    "    \n",
    "    def print(self):\n",
    "        return self.vals[-1]\n",
    "    \n",
    "    def rear(self):\n",
    "        return self.vals[-1]\n",
    "    def front(self):\n",
    "        return self.vals[0]\n",
    "\n",
    "    def remove(self):\n",
    "        try:\n",
    "            del self.vals[0]\n",
    "        except IndexError:\n",
    "            print (\"The queue is now empty.\")\n",
    "    "
   ]
  },
  {
   "cell_type": "code",
   "execution_count": 170,
   "metadata": {},
   "outputs": [
    {
     "name": "stdout",
     "output_type": "stream",
     "text": [
      "5 6\n",
      "6 7\n",
      "The queue is now empty.\n"
     ]
    }
   ],
   "source": [
    "queue = Queue()\n",
    "queue.insert(5)\n",
    "queue.insert(6)\n",
    "print(queue.front(), end=' ')\n",
    "print(queue.rear())\n",
    "queue.insert(7)\n",
    "queue.remove()\n",
    "print(queue.front(), end=' ')\n",
    "print(queue.rear())\n",
    "queue.remove()\n",
    "queue.remove()\n",
    "queue.remove()"
   ]
  }
 ],
 "metadata": {
  "kernelspec": {
   "display_name": "Python 3",
   "language": "python",
   "name": "python3"
  },
  "language_info": {
   "codemirror_mode": {
    "name": "ipython",
    "version": 3
   },
   "file_extension": ".py",
   "mimetype": "text/x-python",
   "name": "python",
   "nbconvert_exporter": "python",
   "pygments_lexer": "ipython3",
   "version": "3.8.5"
  }
 },
 "nbformat": 4,
 "nbformat_minor": 4
}
